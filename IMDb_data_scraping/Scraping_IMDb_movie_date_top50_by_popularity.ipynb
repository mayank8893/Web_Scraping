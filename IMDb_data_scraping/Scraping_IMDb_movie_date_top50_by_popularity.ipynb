{
 "cells": [
  {
   "cell_type": "code",
   "execution_count": 2,
   "metadata": {},
   "outputs": [],
   "source": [
    "# Import the necessary required libraries.\n",
    "import requests\n",
    "from requests import get\n",
    "from bs4 import BeautifulSoup\n",
    "import pandas as pd\n",
    "import numpy as np"
   ]
  },
  {
   "cell_type": "code",
   "execution_count": 3,
   "metadata": {},
   "outputs": [],
   "source": [
    "# Get the data from the website using Beautifulsoup.\n",
    "imdb_url = \"https://www.imdb.com/search/title/?groups=top_100&ref_=adv_prv\"\n",
    "headers = {\"Accept-Language\": \"en-US, en;q=0.5\"}\n",
    "results = requests.get(imdb_url, headers=headers)\n",
    "movie_soup = BeautifulSoup(results.text, \"html.parser\")"
   ]
  },
  {
   "cell_type": "code",
   "execution_count": 4,
   "metadata": {},
   "outputs": [],
   "source": [
    "# Creating empty lists to be filled in by the web content.\n",
    "movie_name = []\n",
    "movie_years = []\n",
    "movie_runtime = []\n",
    "imdb_ratings = []\n",
    "metascores = []\n",
    "number_votes = []\n",
    "us_gross = []\n",
    "\n",
    "# Create a movie_div object to find all div objects in movie_soup.\n",
    "movie_div = movie_soup.find_all('div', class_='lister-item mode-advanced')\n",
    "\n",
    "# Loop through each object in the movie_div.\n",
    "for container in movie_div:\n",
    "        name = container.h3.a.text\n",
    "        movie_name.append(name)\n",
    "\n",
    "        year = container.h3.find('span', class_='lister-item-year').text\n",
    "        movie_years.append(year)\n",
    "\n",
    "        runtime = container.p.find('span', class_='runtime').text if container.p.find('span', class_='runtime').text else '-'\n",
    "        movie_runtime.append(runtime)\n",
    "\n",
    "        imdb = float(container.strong.text)\n",
    "        imdb_ratings.append(imdb)\n",
    "\n",
    "        m_score = container.find('span', class_='metascore').text if container.find('span', class_='metascore') else '-'\n",
    "        metascores.append(m_score)\n",
    "\n",
    "        nv = container.find_all('span', attrs={'name': 'nv'})\n",
    "\n",
    "        vote = nv[0].text\n",
    "        number_votes.append(vote)\n",
    "\n",
    "        grosses = nv[1].text if len(nv) > 1 else '-'\n",
    "        us_gross.append(grosses)\n",
    "\n"
   ]
  },
  {
   "cell_type": "code",
   "execution_count": 7,
   "metadata": {},
   "outputs": [
    {
     "data": {
      "text/html": [
       "<div>\n",
       "<style scoped>\n",
       "    .dataframe tbody tr th:only-of-type {\n",
       "        vertical-align: middle;\n",
       "    }\n",
       "\n",
       "    .dataframe tbody tr th {\n",
       "        vertical-align: top;\n",
       "    }\n",
       "\n",
       "    .dataframe thead th {\n",
       "        text-align: right;\n",
       "    }\n",
       "</style>\n",
       "<table border=\"1\" class=\"dataframe\">\n",
       "  <thead>\n",
       "    <tr style=\"text-align: right;\">\n",
       "      <th></th>\n",
       "      <th>movie_name</th>\n",
       "      <th>movie_year</th>\n",
       "      <th>movie_runtime</th>\n",
       "      <th>imdb_ratings</th>\n",
       "      <th>metascore</th>\n",
       "      <th>number_votes</th>\n",
       "      <th>us_gross_millions</th>\n",
       "    </tr>\n",
       "  </thead>\n",
       "  <tbody>\n",
       "    <tr>\n",
       "      <th>0</th>\n",
       "      <td>Oppenheimer</td>\n",
       "      <td>2023</td>\n",
       "      <td>180</td>\n",
       "      <td>8.7</td>\n",
       "      <td>88</td>\n",
       "      <td>259649</td>\n",
       "      <td>NaN</td>\n",
       "    </tr>\n",
       "    <tr>\n",
       "      <th>1</th>\n",
       "      <td>Interstellar</td>\n",
       "      <td>2014</td>\n",
       "      <td>169</td>\n",
       "      <td>8.7</td>\n",
       "      <td>74</td>\n",
       "      <td>1955614</td>\n",
       "      <td>188.02</td>\n",
       "    </tr>\n",
       "    <tr>\n",
       "      <th>2</th>\n",
       "      <td>Spider-Man: Across the Spider-Verse</td>\n",
       "      <td>2023</td>\n",
       "      <td>140</td>\n",
       "      <td>8.9</td>\n",
       "      <td>86</td>\n",
       "      <td>197616</td>\n",
       "      <td>NaN</td>\n",
       "    </tr>\n",
       "    <tr>\n",
       "      <th>3</th>\n",
       "      <td>Inception</td>\n",
       "      <td>2010</td>\n",
       "      <td>148</td>\n",
       "      <td>8.8</td>\n",
       "      <td>74</td>\n",
       "      <td>2444409</td>\n",
       "      <td>292.58</td>\n",
       "    </tr>\n",
       "    <tr>\n",
       "      <th>4</th>\n",
       "      <td>The Dark Knight</td>\n",
       "      <td>2008</td>\n",
       "      <td>152</td>\n",
       "      <td>9.0</td>\n",
       "      <td>84</td>\n",
       "      <td>2753685</td>\n",
       "      <td>534.86</td>\n",
       "    </tr>\n",
       "  </tbody>\n",
       "</table>\n",
       "</div>"
      ],
      "text/plain": [
       "                            movie_name  movie_year  movie_runtime  \\\n",
       "0                          Oppenheimer        2023            180   \n",
       "1                         Interstellar        2014            169   \n",
       "2  Spider-Man: Across the Spider-Verse        2023            140   \n",
       "3                            Inception        2010            148   \n",
       "4                      The Dark Knight        2008            152   \n",
       "\n",
       "   imdb_ratings  metascore  number_votes  us_gross_millions  \n",
       "0           8.7         88        259649                NaN  \n",
       "1           8.7         74       1955614             188.02  \n",
       "2           8.9         86        197616                NaN  \n",
       "3           8.8         74       2444409             292.58  \n",
       "4           9.0         84       2753685             534.86  "
      ]
     },
     "execution_count": 7,
     "metadata": {},
     "output_type": "execute_result"
    }
   ],
   "source": [
    "# Putting all the data in a dataframe.       \n",
    "movies = pd.DataFrame({\n",
    "'movie_name': movie_name,\n",
    "'movie_year': movie_years,\n",
    "'movie_runtime': movie_runtime,\n",
    "'imdb_ratings': imdb_ratings,\n",
    "'metascore': metascores,\n",
    "'number_votes': number_votes,\n",
    "'us_gross_millions': us_gross,\n",
    "})\n",
    "\n",
    "# Use Pandas str.extract to remove all String characters, and save the value as type int \n",
    "# for cleaning up the data with Pandas.\n",
    "movies['movie_year'] = movies['movie_year'].str.extract('(\\d+)').astype(int)\n",
    "movies['movie_runtime'] = movies['movie_runtime'].str.extract('(\\d+)').astype(int)\n",
    "movies['metascore'] = movies['metascore'].astype(int)\n",
    "movies['number_votes'] = movies['number_votes'].str.replace(',', '').astype(int)\n",
    "movies['us_gross_millions'] = movies['us_gross_millions'].map(lambda x: x.lstrip('$').rstrip('M'))\n",
    "movies['us_gross_millions'] = pd.to_numeric(movies['us_gross_millions'], errors='coerce')\n",
    "\n",
    "movies[:5]"
   ]
  },
  {
   "cell_type": "code",
   "execution_count": 6,
   "metadata": {},
   "outputs": [],
   "source": [
    "# Export our movie results to a pretty little .csv file.\n",
    "movies.to_csv('top_50_movies_by_popularity.csv')"
   ]
  },
  {
   "cell_type": "code",
   "execution_count": 28,
   "metadata": {},
   "outputs": [
    {
     "data": {
      "text/plain": [
       "[]"
      ]
     },
     "execution_count": 28,
     "metadata": {},
     "output_type": "execute_result"
    }
   ],
   "source": []
  },
  {
   "cell_type": "code",
   "execution_count": null,
   "metadata": {},
   "outputs": [],
   "source": []
  }
 ],
 "metadata": {
  "kernelspec": {
   "display_name": "Python 3",
   "language": "python",
   "name": "python3"
  },
  "language_info": {
   "codemirror_mode": {
    "name": "ipython",
    "version": 3
   },
   "file_extension": ".py",
   "mimetype": "text/x-python",
   "name": "python",
   "nbconvert_exporter": "python",
   "pygments_lexer": "ipython3",
   "version": "3.7.6"
  }
 },
 "nbformat": 4,
 "nbformat_minor": 4
}
